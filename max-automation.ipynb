{
 "cells": [
  {
   "cell_type": "code",
   "execution_count": 1,
   "metadata": {},
   "outputs": [
    {
     "name": "stderr",
     "output_type": "stream",
     "text": [
      "c:\\Users\\farag\\anaconda3\\Lib\\site-packages\\pandas\\core\\arrays\\masked.py:60: UserWarning: Pandas requires version '1.3.6' or newer of 'bottleneck' (version '1.3.5' currently installed).\n",
      "  from pandas.core import (\n"
     ]
    }
   ],
   "source": [
    "import numpy as np \n",
    "import pandas as pd\n",
    "import fitz\n",
    "import os"
   ]
  },
  {
   "cell_type": "code",
   "execution_count": null,
   "metadata": {},
   "outputs": [
    {
     "name": "stdout",
     "output_type": "stream",
     "text": [
      "['FF5507 Fuel filter \\n BALDWIN : BF7814 DONALDSON : P550529 HENGST FILTER : H200WDK MANN-FILTER : WDK 11 102/25\\nRACOR : RC358 \\n AGRIFAC FANTUZZI MAN RENAULT VI VOLVO', 'LF667 Oil filter \\n BALDWIN : B76-B DONALDSON : DBL7483 FLEETGUARD : LF3476 HENGST FILTER : H200W01 HENGST FILTER : H200W10 MANN- \\n ATLAS COPCO BAUER MASCHINEN CATERPILLAR COMPAIR-HOLMAN DONGFENG INGERSOLL', 'LF3654 Oil filter \\n BALDWIN : B7577 BOSCH : 4 513 000 030 DONALDSON : LF3654 FLEETGUARD : LF3410 GUD FILTERS\\n: Z 238\\nHENGST FILTER : H200WN MAHLE :\\nOC 282 \\n RENAULT VI FANTUZZI DOOSAN DAEWOO INGERSOLL RAND', 'FF5369W Fuel filter \\n BALDWIN : PF7744\\nDonaldson-AU : P550757 FLEETGUARD : FF5369 FLEETGUARD : FF5369W \\n SANDVIK KENWORTH ATLAS COPCO FREIGHTLINER', 'LF14000NN Oil filter \\n BALDWIN : BD40139 FLEETGUARD\\n: LF9080 HENGST FILTER : H371W KNECHT : OC 516\\nMANN-FILTER : W 11 022 WIX\\nFILTERS : 57746 \\n PISTEN BULLY JOHN DEERE XCMG\\nJOHN DEERE HYUNDAI DOOSAN DAEWOO', 'FF5776 Fuel filter \\n BALDWIN : BF9885 DONALDSON : DBF6776 FLEETGUARD : 4331007 LUBERFINER : LFF6776 MANN- FILTER : WK 12 003 WIX FILTERS : SF10123 \\n nan', 'FK13850NN Fuel filter \\n BALDWIN : PF9908 BALDWIN : PF9908KIT DONALDSON : P551063 FLEETGUARD : FK13834 FLEETGUARD : FK13850NN WIX\\nFILTERS : WF10103 \\n DETROIT FREIGHTLINER WESTERN STAR', 'LF17511 Oil filter \\n BALDWIN : P7505 BOSCH : F 026 407 192 DONALDSON : P551005\\nDT Spare Parts : 4.64484 FEBI BILSTEIN : 49867 HENGST FILTER :\\nE510H04 D129 \\n MERCEDES DETROIT CLAAS DOPPSTADT\\nKASSBOHRER-SETRA SISU TADANO', 'FS19915 Fuel filter (fuel water separator) \\n BALDWIN : PF9804 DONALDSON : P550854 DONALDSON : P551011 FLEETGUARD : FS19915 WIX FILTERS : 33655 \\n DETROIT FREIGHTLINER WESTERN STAR', 'FK48556 Fuel filter \\n BOSCH : F 026 402 276 FLEETGUARD : P551956 MANN- FILTER : PU 11 005-3 Z RACOR : PFF67555\\nWIX FILTERS : 33849 \\n DETROIT', 'LF3883 Oil filter \\n BALDWIN : B7030 FLEETGUARD : LF3883 FRAM : PH7138\\nHENGST FILTER : H300W05 WIX FILTERS : 51799 \\n CLAAS PERKINS WILSON', 'FF5319 Fuel filter \\n BALDWIN : BF7587 DONALDSON : P551311 FLEETGUARD : FF5308 FLEETGUARD : FF5319 HENGST FILTER : H175WK MAHLE\\nORIGINAL : KC 255 MANN-FILTER : \\n CATERPILLAR CHALLENGER GIPO\\nINGERSOLL RAND KOMPTECH NORDBERG\\nROMAN DACWIRTGEN', 'FF5206 Fuel filter \\n BALDWIN : BF581 DONALDSON : EFF9091 GUD FILTERS : Z129 WABCO : PB1613\\nWIX FILTERS : 33120 \\n ATLAS COPCO DETROIT FORD INGERSOLL RAND', 'FF2200 Fuel filter \\n BALDWIN : BF7766 DONALDSON : P552200 FLEETGUARD : FF2200 WIX FILTERS : 33711 \\n PETERBILT KENWORTH', 'LF3620 Oil filter \\n BALDWIN : B495 DONALDSON : P552100 FEBI BILSTEIN : 171741 FLEETGUARD : LF3620 FRAM : HPH7405\\nGUD FILTERS : Z 590 HENGST \\n FORD PERLINI', 'FF5207 Fuel filter \\n BALDWIN : BF5800 DONALDSON : FFP550915 DONALDSON : P550915 FLEETGUARD : FF207 HENGST FILTER : H185WK MAHLE \\n ASTRA DETROIT INGERSOLL RAND STERLING', 'LF3000 Oil filter \\n BALDWIN : BD103 DONALDSON : P553639 HENGST FILTER : H300W07 MANN-FILTER : WP 12 121 MAHLE : OC 304 \\n DAF CUMMINS POWER GENERATION CHALLENGER CASE', 'FS1000 Fuel filter (fuel water separator) \\n BALDWIN : BF1259 DONALDSON : P550901\\nDT Spare Parts : 5.45079 FRAM : P3430\\nGUD FILTERS : Z 261 HENGST \\n HITACHI HYUNDAI JCB NEW HOLLAND SHAANXI CUMMINS N14', 'FS1029W Fuel filter (fuel water separator) \\n BALDWIN : PF7548 DONALDSON : P550463 FLEETGUARD : FF5278 HIRSCH KFZ-TEILE : SN40540 WIX FILTERS : 33451\\nWIX FILTERS : 33651 \\n SANDVIK KENWORTH FREIGHTLINER', 'FS19624 Fuel filter (fuel water separator) \\n BALDWIN : PF7748 BALDWIN : PF7895 DONALDSON : P550467 FLEETGUARD : FS19613 FLEETGUARD : FS19761 WIX FILTERS : 33651XE \\n BLUE BIRD BUSES KEESTRACK VOGELE WIRTGEN', 'FS36401 Fuel filter (fuel water separator) \\n BALDWIN : PF9928 DONALDSON : P557004 FLEETGUARD : FS36401 \\n DAF', 'FS19932 Fuel filter (fuel water separator) \\n BALDWIN : BF13290 BOSCH : 0 986 TF0 254 DONALDSON : P550747 HENGST FILTER : H7090WK30 MAHLE : KC 249 D\\nRACOR : R90P \\n nan', 'FS19532 Fuel filter (fuel water separator) \\n BALDWIN : BF1223 BOSCH : 0 986 450 734 DONALDSON : P550730 FLEETGUARD : FS1287 FRAM : PS9025\\nMAHLE : KC 124 \\n CATERPILLAR CLAAS DAF DOOSAN DAEWOO HYUNDAI JOHN DEERE', 'FF105 Fuel filter \\n BALDWIN : BF7557-B DONALDSON\\n: P550105 FEBI BILSTEIN : 170006 FLEETGUARD : FF102HP HENGST FILTER : H13WK MAHLE : KC 15 \\n COMPAIR-HOLMAN DOOSAN DAEWOO HINO HITACHI HYUNDAI VOLVO', 'FS1212 Fuel filter (fuel water separator) \\n BALDWIN : BF1212 BOSCH : 0 451 302 054 DONALDSON : P550104 FLEETGUARD : FF5017 FRAM : P1102\\nKNECHT : AW 9 MAHLE : KC 15 WIX FILTERS : 33115 \\n AUSTOFT BOMAG CHALLENGER\\nDOOSAN DAEWOO FANTUZZI FAW FOTON HYUNDAI TATA VOLVO', 'FS19551 Fuel filter (fuel water separator) \\n DONALDSON : P550730 DONALDSON : P551867 FRAM : PS9624A MAHLE : KC123\\nMANN-FILTER : WK 1060/2 MANN- FILTER : WK 1060/2 RACOR : R120- 10M\\nWIX FILTERS : W36325BR \\n CLAAS DOOSAN DAEWOO FAUN GRUES HYUNDAI ISUZU VU/LT/LW KOBELCO NEW HOLLAND SANY TECNOMA\\nVOLVO', 'FS19764 Fuel filter (fuel water separator) \\n BALDWIN : PF7928 DONALDSON : P550849 FLEETGUARD : FS19763 MANN-FILTER : P11001X WIX FILTERS : 33763 \\n CUMMINS', 'LF17503 Oil filter \\n BALDWIN : B7460 DONALDSON : P167404\\nDT Spare Parts : 1.10280 FLEETGUARD : LF16013 GUD FILTERS : Z 583 HENGST FILTER : \\n RENAULT VI SANY VOLVO WELLINK CAESAR', 'FS20172 Fuel filter (fuel water separator) \\n BALDWIN : PF46081\\nDonaldson-AU : P581299 FLEETGUARD : FS20172 \\n KENWORTH PETERBILT', 'FF254 Fuel filter \\n DONALDSON : P550529 HENGST FILTER : H200WDK01 MAHLE : KC 300\\nMANN-FILTER : WDK 11 102/27 WIX FILTERS : WF10571 \\n RENAULT VI VOLVO', 'FS19727 Fuel filter (fuel water separator) \\n BALDWIN : PF7895 DONALDSON : P551052 FLEETGUARD : FS19727 MAHLE ORIGINAL : KX 434 \\n CASE LIUGONG NEW HOLLAND', 'LF17502 Oil filter \\n BALDWIN : B7577 BOSCH : P0003 GUD FILTERS : Z 238 HENGST FILTER : H200WN MAHLE : OC 282 MANN-FILTER : WP 11 102/3 WIX FILTERS : 51660 \\n RENAULT VI SANDVIK VOLVO EURO DRAIN\\nATLAS COPCO LIFTER PRAMAC', 'LF16046 Oil filter \\n DONALDSON : ELF7690 GUD FILTERS : M 54\\nHENGST FILTER : E175H D129 HENGST FILTER : E175H D68 MAHLE : OX 348 D\\nMANN-FILTER : HU 12 110 x WIX \\n HITACHI KAMAZ MERCEDES PISTEN BULLY PRINOTH', 'LF3970 Oil filter \\n BALDWIN : BT595 DONALDSON : P550428 DONALDSON : P551019 FLEETGUARD : HF7936 FRAM : P8732\\nHENGST FILTER : H320W WIX\\nFILTERS : 51619 \\n CASAGRANDE COMPAIR-HOLMAN CUMMINS POWER GENERATION DOOSAN DAEWOO\\nFREIGHTLINER', 'FF2203 Fuel filter \\n BALDWIN : BF7760\\nDonaldson-AU : P552203 FRAM : P10272 LUBERFINER : LFF2203 \\n ATLAS COPCO', 'LF16110 Oil filter \\n BALDWIN : B7513 DONALDSON : P502364 FLEETGUARD : LF16226 HENGST FILTER : H480W MANN- FILTER : W 12 003 WIX FILTERS : 57190 \\n NISSAN NEW HOLLAND MANITOWOC KOBELCO AIRMAN HINO', 'FF5632 Fuel filter \\n BALDWIN : BF7940 FLEETGUARD : FF5812 HENGST FILTER : H374WK MANN-FILTER : WK 9037 x MANN- FILTER : WK 9037 x WIX FILTERS : 33966 \\n ALEXANDER DENNIS LIMITED AMMANN\\nCASE COMPAIR-HOLMAN DOOSAN DAEWOO DITCH WITCH DYNAPAC', '4921746 Pressure Sensor \\n nan \\n nan', '06-62384-002 Coolant Level Sensor \\n nan \\n nan', '4921517 Pressure Sensor \\n nan \\n nan', '4921477 Oil Temperature Pressure Sensor \\n nan \\n nan', '4928593 Manifold Absolute Pressure Sensor \\n nan \\n nan', '4921497 Map / Boost Presure Sensor \\n nan \\n nan', '4921473 Air Pressure Temperature Sensor \\n nan \\n nan', '23527829 Turbocharger Boost Sensor \\n nan \\n nan', '2872784 Boost Temperature Pressure Sensor \\n nan \\n nan', 'A0041537028 TurbochargerBoost Sensor \\n nan \\n nan', '1828345C91 Crankshaft Position Sensor \\n nan \\n nan', '4921475 Oil Pressure Sensor \\n nan \\n nan', '5C3Z9J460B Exhaust Pressure Sensor \\n nan \\n nan', '1840078C1 Exhaust Back Pressure Sensor \\n nan \\n nan', '21426987 Crankshaft Position Sensor \\n nan \\n nan', '22564822 Coolant Level Sensor \\n nan \\n nan', '21634017 Pressure Sensor \\n nan \\n nan', '3572012C1 Coolant Level Sensor \\n nan \\n nan', '22899626 Fuel PressureSensor \\n nan \\n nan', 'N9267001 Coolant Level Sensor \\n nan \\n nan', '4921728 EGR Differential Pressure Sensor \\n nan \\n nan', '4921483 EGR Differential Pressure Sensor \\n nan \\n nan', '2872279 Crankshaft Position Sensor \\n nan \\n nan', '4899831 Rail Pressure Relief Valve \\n nan \\n nan', '21531072 Temperature Sensor \\n nan \\n nan', '23532797 Fuel PressureSensor \\n nan \\n nan', '22303390 NOX sensor \\n nan \\n nan', '29543435 Transmission Speed Sensor \\n nan \\n nan', '29543432 Transmission Speed Sensor \\n nan \\n nan', 'A0101532328 NOX sensor \\n nan \\n nan', 'A0101532228 NOX sensor \\n nan \\n nan', '64MT2105M Tachometer Sensor \\n nan \\n nan', 'A4721530928 Pressure Sensor \\n nan \\n nan', '38076 Pully Tensioner \\n nan \\n nan', '87840057 Pully Tensioner \\n nan \\n nan', '38667 Pully Tensioner \\n nan \\n nan', '38510 Pully Tensioner \\n nan \\n nan', '05-23045-000 Expansion Tank \\n nan \\n nan', '05-23195-000 Expansion Tank \\n nan \\n nan', 'A05-25263-00 Expansion Tank \\n nan \\n nan', '2002105C3 Expansion Tank \\n nan \\n nan', '21846997 Expansion Tank \\n nan \\n nan', 'N5346001 Expansion Tank \\n nan \\n nan', '1674916 Expansion Tank \\n nan \\n nan', '2591620C91 Expansion Tank \\n nan \\n nan', 'L2VU8031B12 Drag Link \\n nan \\n nan', '1417273000 Drag Link \\n nan \\n nan', '1417322000 Drag Link \\n nan \\n nan', '1417288000 Drag Link \\n nan \\n nan', '1417291000 Drag Link \\n nan \\n nan', '1417266000 Drag Link \\n nan \\n nan', '1417298000 Drag Link \\n nan \\n nan', '1668479C91 Tie Rod End \\n nan \\n nan', '1668480C91 Tie Rod End \\n nan \\n nan', '60961027 Tie Rod End \\n nan \\n nan', '60961028 Tie Rod End \\n nan \\n nan', '2719009009 Tie Rod End \\n nan \\n nan', '27191009010 Tie Rod End \\n nan \\n nan', 'FK11011 Fuel filter \\n DETROIT DIESEL : 4720921705 DONALDSON : P582831 \\n FREIGHTLINER\\n WESTERN STAR', 'FK13850NN Fuel filter \\n BALDWIN : PF9908 BALDWIN : PF9908KIT DONALDSON : P551063 FLEETGUARD : FK13834 FLEETGUARD : FK13850NN WIX FILTERS : WF10103 \\n DETROIT FREIGHTLINER WESTERN STAR', 'LF17810 Oil filter \\n DETROIT DIESEL : A4711800209 DONALDSON : P582506\\nRYCO : R2925P\\nWIX FILTERS : WL10663 \\n FREIGHTLINER WESTERN STAR MERCEDES-BENZ', 'LF16368 Oil filter \\n DAF : 2234788 DONALDSON : P957929\\nHENGST FILTER : E903H D436 MANN-FILTER : HU 12 009 z \\n DAF KENWORTH PETERBILT', 'CS41044 Oil filter \\n BALDWIN : BC7326 DAF : 1922496\\nDETROIT DIESEL : 9061810086 INTERNATIONAL : 2606467C91 \\n BOVA DAF\\nKENWORTH PETERBILT VAN HOOL', 'LF16465 Oil filter \\n HENGST FILTER : H841W MACK：23155587\\nMANN-FILTER : W 11 020 VOLVO：23151592 \\n nan', 'FS19765 Fuel filter (fuel water separator) \\n BALDWIN : PF46094 DETROIT DIESEL : 23538304 MACK : 21737481\\nVOLVO : 21707134 \\n INTERNATIONAL KENWORTH PETERBILT MACK\\nVOLVO', 'AF76010 Air filter \\n FREIGHTLINER : AF76010 \\n FREIGHTLINER', 'P618478 Air filter \\n BALDWIN : CA5790 FREIGHTLINER : DNP610260 MERCEDES-BENZ : DNP610260 LUBERFINER : LAF6260 \\n FREIGHTLINER', 'P629641 Air filter \\n BALDWIN : PA32002 FREIGHTLINER : 336867010 \\n FREIGHTLINER', 'P616056 Air filter \\n BALDWIN : CA5500 FLEETGUARD : AF27688 KENWORTH : P611696 PETERBILT : D371003101 \\n KENWORTH', 'P637453 Air filter \\n BALDWIN : PA32000 LUBERFINER : LAF6725 PACCAR : P621725 \\n KENWORTH PETERBILT', 'P527484 Air filter \\n BALDWIN : RS2863 FREIGHTLINER : DNP527484 FORD : F3HZ9601A\\nVOLVO : 20188124 \\n FORD FREIGHTLINER HINO\\nJOHN DEERE KENWORTH PETERBILT STERLING ACTERRA', 'P527682 Air filter \\n BALDWIN : RS3518 FREIGHTLINER : EAF5069 INTERNATIONAL : 3560734C1 VOLVO : 85106370 \\n FREIGHTLINER INTERNATIONAL STERLING', 'P534096 Air filter \\n BALDWIN : RS3516 FREIGHTLINER : DNP534096 FLEETGUARD : AF25219 \\n FREIGHTLINER PETERBILT', 'P181186 Air filter \\n BALDWIN : PA2608 FREIGHTLINER : DNP181186 FLEETGUARD : AF996M FORD : 9576P181186 \\n KENWORTH PETERBILT', 'P153551 Air filter \\n BALDWIN : PA2705 FREIGHTLINER : DNP153551 FLEETGUARD : AF1968M KENWORTH : KW3551 \\n FREIGHTLINER KENWORTH WESTERN STAR T', 'P534816 Air filter \\n BALDWIN : RS3539 FREIGHTLINER : DNP534816 VOLVO : 85114076\\nWESTERN STAR : BNP534816 \\n FREIGHTLINER KENWORTH PETERBILT WESTERN STAR T', 'P549644 Air filter \\n BALDWIN : RS3750 FLEETGUARD : AF25598 LUBERFINER : LAF5873 WIX FILTERS : 42455 \\n KENWORTH PETERBILT', 'P544243 Air filter \\n BALDWIN : RS4572 FLEETGUARD : AF25955 MACK : 57MD318 LUBERFINER : LAF6243 \\n PETERBILT MACK', 'P613336 Air filter \\n BALDWIN : RS4862 CATERPILLAR : 3601023 FLEETGUARD : AF26103 INTERNATIONAL : 3551814C1 \\n CATERPILLAR INTERNATIONAL', 'P150695 Air filter \\n BALDWIN : PA2680 FLEETGUARD : AF1969 FREIGHTLINER : DNP150695 MACK : 2MD4128M \\n FREIGHTLINER PETERBILT MACK', 'P606720 Air filter \\n BALDWIN : RS4642 FLEETGUARD : AF26472M MACK : 2191P606720 VOLVO : 20411815 \\n VOLVO', '4707 23K Brake Shoe \\n nan \\n nan', '4709 23K Brake Shoe \\n nan \\n nan', 'T30/30 DD Brake Chamber \\n nan \\n nan', '4707 Repair Repair Kit \\n nan \\n nan', '4709 Repair Repair Kit \\n nan \\n nan', 'SP2106611X Center Bearing  \\n nan \\n nan', '1616412001 Torque Rubber core \\n nan \\n nan', 'BCD288051 Engine Mounting \\n nan \\n nan', 'BCD273301 Engine Mounting \\n nan \\n nan']\n"
     ]
    }
   ],
   "source": [
    "df = pd.read_excel('FIRST CATALOGUE NEW.xlsx')\n",
    "ds = df[df.columns[4]].tolist() \n",
    "codes = df[df.columns[1]].tolist()\n",
    "codes = codes[:127]\n",
    "ds = ds[:127]\n",
    "titles = []\n",
    "desc = []\n",
    "for idx,code in enumerate(codes):\n",
    "    titles.append(str(code) + ' ' + ds[idx])\n",
    "    desc.append(str(code) + ' ' + ds[idx] + '<br>' + str(df[df.columns[2]].tolist()[idx]) + '<br>' +  str(df[df.columns[5]].tolist()[idx]))\n",
    "prices = df[df.columns[6]].tolist()\n",
    "print(desc)"
   ]
  },
  {
   "cell_type": "code",
   "execution_count": 10,
   "metadata": {},
   "outputs": [
    {
     "name": "stdout",
     "output_type": "stream",
     "text": [
      "Index(['NO.', 'OEM', 'Reference number', 'Photo', 'Description',\n",
      "       'Applicablemodels', 'Price'],\n",
      "      dtype='object')\n",
      "0                  AGRIFAC FANTUZZI MAN RENAULT VI VOLVO\n",
      "1      ATLAS COPCO BAUER MASCHINEN CATERPILLAR COMPAI...\n",
      "2       RENAULT VI FANTUZZI DOOSAN DAEWOO INGERSOLL RAND\n",
      "3              SANDVIK KENWORTH ATLAS COPCO FREIGHTLINER\n",
      "4      PISTEN BULLY JOHN DEERE XCMG\\nJOHN DEERE HYUND...\n",
      "                             ...                        \n",
      "152                                                  NaN\n",
      "153                                                  NaN\n",
      "154                                                  NaN\n",
      "155                                                  NaN\n",
      "156                                                  NaN\n",
      "Name: Applicablemodels, Length: 157, dtype: object\n"
     ]
    }
   ],
   "source": [
    "print(df.columns)\n",
    "print(df[df.columns[5]])"
   ]
  },
  {
   "cell_type": "code",
   "execution_count": 7,
   "metadata": {},
   "outputs": [
    {
     "name": "stdout",
     "output_type": "stream",
     "text": [
      "[4921746, '06-62384-002', 4921517, 4921477, 4928593, 4921497, 4921473, 23527829, 2872784, 'A0041537028', '1828345C91', 4921475, '5C3Z9J460B', '1840078C1', 21426987, 22564822, 21634017, '3572012C1', 22899626, 'N9267001', 4921728, 4921483, 2872279, 4899831, 21531072, 23532797, 22303390, 29543435, 29543432, 'A0101532328', 'A0101532228', '64MT2105M', 'A4721530928', 38076, 87840057, 38667, 38510, '05-23045-000', '05-23195-000', 'A05-25263-00', '2002105C3', 21846997, 'N5346001', 1674916, '2591620C91', 'L2VU8031B12', 1417273000, 1417322000, 1417288000, 1417291000, 1417266000, 1417298000, '1668479C91', '1668480C91', 60961027, 60961028, 2719009009, 27191009010, 'FK11011']\n"
     ]
    }
   ],
   "source": [
    "df = pd.read_excel('FIRST CATALOGUE NEW.xlsx')\n",
    "ds = df[df.columns[4]].tolist() \n",
    "codes = df[df.columns[1]].tolist()\n",
    "codes = codes[37:96]\n",
    "print(codes)"
   ]
  },
  {
   "cell_type": "code",
   "execution_count": 8,
   "metadata": {},
   "outputs": [
    {
     "name": "stdout",
     "output_type": "stream",
     "text": [
      "Extracted: final\\4921746.jpg\n",
      "Extracted: final\\06-62384-002.jpg\n",
      "Extracted: final\\4921517.jpg\n",
      "Extracted: final\\4921477.jpg\n",
      "Extracted: final\\4928593.jpg\n",
      "Extracted: final\\4921497.jpg\n",
      "Extracted: final\\4921473.jpg\n",
      "Extracted: final\\23527829.jpg\n",
      "Extracted: final\\2872784.jpg\n",
      "Extracted: final\\A0041537028.jpg\n",
      "Extracted: final\\1828345C91.jpg\n",
      "Extracted: final\\4921475.jpg\n",
      "Extracted: final\\5C3Z9J460B.jpg\n",
      "Extracted: final\\1840078C1.jpg\n",
      "Extracted: final\\21426987.jpg\n",
      "Extracted: final\\22564822.jpg\n",
      "Extracted: final\\21634017.jpg\n",
      "Extracted: final\\3572012C1.jpg\n",
      "Extracted: final\\22899626.jpg\n",
      "Extracted: final\\N9267001.jpg\n",
      "Extracted: final\\4921728.jpg\n",
      "Extracted: final\\4921483.jpg\n",
      "Extracted: final\\2872279.jpg\n",
      "Extracted: final\\4899831.jpg\n",
      "Extracted: final\\21531072.jpg\n",
      "Extracted: final\\23532797.jpg\n",
      "Extracted: final\\22303390.jpg\n",
      "Extracted: final\\29543435.jpg\n",
      "Extracted: final\\29543432.jpg\n",
      "Extracted: final\\A0101532328.jpg\n",
      "Extracted: final\\A0101532228.jpg\n",
      "Extracted: final\\64MT2105M.jpg\n",
      "Extracted: final\\A4721530928.jpg\n",
      "Extracted: final\\38076.jpg\n",
      "Extracted: final\\87840057.jpg\n",
      "Extracted: final\\38667.jpg\n",
      "Extracted: final\\38510.jpg\n",
      "Extracted: final\\05-23045-000.jpg\n",
      "Extracted: final\\05-23195-000.jpg\n",
      "Extracted: final\\A05-25263-00.jpg\n",
      "Extracted: final\\2002105C3.jpg\n",
      "Extracted: final\\21846997.jpg\n",
      "Extracted: final\\N5346001.jpg\n",
      "Extracted: final\\1674916.jpg\n",
      "Extracted: final\\2591620C91.jpg\n",
      "Extracted: final\\L2VU8031B12.jpg\n",
      "Extracted: final\\1417273000.jpg\n",
      "Extracted: final\\1417322000.jpg\n",
      "Extracted: final\\1417288000.jpg\n",
      "Extracted: final\\1417291000.jpg\n",
      "Extracted: final\\1417266000.jpg\n",
      "Extracted: final\\1417298000.jpg\n",
      "Extracted: final\\1668479C91.jpg\n",
      "Extracted: final\\1668480C91.jpg\n",
      "Extracted: final\\60961027.jpg\n",
      "Extracted: final\\60961028.jpg\n",
      "Extracted: final\\2719009009.jpg\n",
      "Extracted: final\\27191009010.jpg\n",
      "Extracted: final\\FK11011.jpg\n"
     ]
    }
   ],
   "source": [
    "import fitz  # PyMuPDF\n",
    "import os\n",
    "\n",
    "def extract_images_from_pdf(pdf_path, output_folder):\n",
    "    os.makedirs(output_folder, exist_ok=True)\n",
    "    \n",
    "    doc = fitz.open(pdf_path)\n",
    "    current_index = 0\n",
    "    for page_num in range(len(doc)):\n",
    "        text = doc[page_num].get_text(\"text\")\n",
    "        oem_number = extract_oem_number(text)\n",
    "        \n",
    "        for img_index, img in enumerate(doc[page_num].get_images(full=True)):\n",
    "            xref = img[0]\n",
    "            base_image = doc.extract_image(xref)\n",
    "            image_bytes = base_image[\"image\"]\n",
    "            image_ext = base_image[\"ext\"]\n",
    "            \n",
    "            image_filename = f\"{codes[current_index]}.jpg\"\n",
    "            image_path = os.path.join(output_folder, image_filename)\n",
    "            if page_num == 0:\n",
    "                if img_index != 8:\n",
    "                    with open(image_path, \"wb\") as image_file:\n",
    "                        image_file.write(image_bytes)\n",
    "                    print(f\"Extracted: {image_path}\")\n",
    "                    current_index += 1\n",
    "            else:\n",
    "                with open(image_path, \"wb\") as image_file:\n",
    "                    image_file.write(image_bytes)\n",
    "                print(f\"Extracted: {image_path}\")\n",
    "                current_index += 1\n",
    "                \n",
    "\n",
    "def extract_oem_number(text):\n",
    "    import re\n",
    "    match = re.search(r\"\\b[A-Z0-9]{6,}\\b\", text)\n",
    "    return match.group(0) if match else \"unknown\"\n",
    "\n",
    "pdf_path = \"DK0823110803-1-Final Invoice(With Application) (2).pdf\"\n",
    "output_folder = \"final\"\n",
    "extract_images_from_pdf(pdf_path, output_folder)"
   ]
  }
 ],
 "metadata": {
  "kernelspec": {
   "display_name": "base",
   "language": "python",
   "name": "python3"
  },
  "language_info": {
   "codemirror_mode": {
    "name": "ipython",
    "version": 3
   },
   "file_extension": ".py",
   "mimetype": "text/x-python",
   "name": "python",
   "nbconvert_exporter": "python",
   "pygments_lexer": "ipython3",
   "version": "3.11.5"
  }
 },
 "nbformat": 4,
 "nbformat_minor": 2
}
